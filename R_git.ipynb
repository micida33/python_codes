<<<<<<< HEAD
{"nbformat":4,"nbformat_minor":0,"metadata":{"colab":{"name":"R.ipynb","provenance":[],"toc_visible":true},"kernelspec":{"name":"ir","display_name":"R"}},"cells":[{"cell_type":"markdown","metadata":{"id":"Vendgs3NtYY2"},"source":["# Rについて"]},{"cell_type":"markdown","metadata":{"id":"0Q5ET1u792QQ"},"source":["## 参考サイト\n","\n","- http://cse.naro.affrc.go.jp/takezawa/r-tips/r.html"]},{"cell_type":"markdown","metadata":{"id":"Zx2sBLXLtcoG"},"source":["## Rのインストール使用方法\n","- ランタイムを使用\n","- マジックコマンドを使用\n","　"]},{"cell_type":"markdown","metadata":{"id":"MF0oMk8Ht_il"},"source":["### ランタイム\n","\n","1. ファイルのダウンロード：新規作成で.ipnbファイルを開いて、ダウンロードする。\n","\n","2. ダウンロードしたファイルをテキストアプリで開いて、\n","\n","\n","    \"kernelspec\": {\n","      \"name\": \"python3\",\n","      \"display_name\": \"Python 3\"\n","    },\n","\n","を\n","\n","    \"kernelspec\": {\n","      \"name\": \"ir\",\n","      \"display_name\": \"R\"\n","    },\n","\n","に書き換える。\n","\n","3.　 書き換えたファイルをアップロードする。\n","\n","ランタイム変更がRになっていれば、成功"]},{"cell_type":"markdown","metadata":{"id":"7hKzcjiE1Zea"},"source":["### マジックコマンドを使う\n","\n","%%script R --vanilla --quiet"]},{"cell_type":"markdown","metadata":{"id":"oImT61av7Nz8"},"source":["## 基本操作"]},{"cell_type":"code","metadata":{"id":"MKfyZFEy7RTq","executionInfo":{"status":"ok","timestamp":1592626364884,"user_tz":-540,"elapsed":1562,"user":{"displayName":"石田晶玄","photoUrl":"","userId":"03732523859576574577"}},"outputId":"3d689df3-53d7-4957-c173-dfd00f8cd992","colab":{"base_uri":"https://localhost:8080/","height":34}},"source":["# 作業ディレクトリ\n","\n","getwd() "],"execution_count":null,"outputs":[{"output_type":"display_data","data":{"text/plain":["[1] \"/content\""],"text/latex":"'/content'","text/markdown":"'/content'","text/html":["'/content'"]},"metadata":{"tags":[]}}]},{"cell_type":"code","metadata":{"id":"yllBgCX39srj"},"source":["# ディレクトリ変更\n","\n","setwd(\"c:/usr\")"],"execution_count":null,"outputs":[]},{"cell_type":"code","metadata":{"id":"abOOx4IfESz5"},"source":["# CSVファイルの読み込み\n","\n","df <- read.csv(“sample-data.csv”,header=T,row.names=1)"],"execution_count":null,"outputs":[]},{"cell_type":"code","metadata":{"id":"oYxGORMc-WHp"},"source":["# エクセルパッケージのインストール\n","\n","install.packages('openxlsx') # エクセルライブラリのインストール\n","\n","library(openxlsx) # ライブラリ読み込み"],"execution_count":null,"outputs":[]},{"cell_type":"code","metadata":{"id":"KY_1zKb8A43Z"},"source":["# エクセルファイルの読み込み\n","\n"," x <- read.xlsx(\"/content/pancsurg20200618_2.xlsx\")"],"execution_count":null,"outputs":[]},{"cell_type":"markdown","metadata":{"id":"WMFvyAUMBIwW"},"source":["## データフレームの使い方"]},{"cell_type":"code","metadata":{"id":"3G4dUoadBM0_","executionInfo":{"status":"error","timestamp":1592628267465,"user_tz":-540,"elapsed":981,"user":{"displayName":"石田晶玄","photoUrl":"","userId":"03732523859576574577"}},"outputId":"58fe1189-a36d-42a7-ee39-180a0b6b32cf","colab":{"base_uri":"https://localhost:8080/","height":95}},"source":["as.logical(x[\"PK\"])"],"execution_count":null,"outputs":[{"output_type":"error","ename":"ERROR","evalue":"ignored","traceback":["Error in eval(expr, envir, enclos): 'list' object cannot be coerced to type 'logical'\nTraceback:\n"]}]},{"cell_type":"code","metadata":{"id":"ckNoHcrdDPpw","executionInfo":{"status":"ok","timestamp":1601725713963,"user_tz":-540,"elapsed":589,"user":{"displayName":"石田晶玄","photoUrl":"","userId":"03732523859576574577"}}},"source":["library(MASS)"],"execution_count":4,"outputs":[]},{"cell_type":"markdown","metadata":{"id":"EZgdWeIHQewe"},"source":["# メタアナリシス"]},{"cell_type":"code","metadata":{"id":"W9GIa_ktQhDL","executionInfo":{"status":"error","timestamp":1601725624248,"user_tz":-540,"elapsed":578,"user":{"displayName":"石田晶玄","photoUrl":"","userId":"03732523859576574577"}},"outputId":"945d219f-be7a-4cac-c68b-8c0d616b70fb","colab":{"base_uri":"https://localhost:8080/","height":129}},"source":["%%script R --vanilla --quiet #動かない"],"execution_count":3,"outputs":[{"output_type":"error","ename":"ERROR","evalue":"ignored","traceback":["Error in parse(text = x, srcfile = src): <text>:1:1: unexpected SPECIAL\n1: %%\n    ^\nTraceback:\n"]}]},{"cell_type":"code","metadata":{"id":"RGkt8Gr7VnaE","executionInfo":{"status":"ok","timestamp":1601726501241,"user_tz":-540,"elapsed":11389,"user":{"displayName":"石田晶玄","photoUrl":"","userId":"03732523859576574577"}},"outputId":"33f40b12-963d-4409-9192-e8aa0ae579be","colab":{"base_uri":"https://localhost:8080/","height":119}},"source":["install.packages('forestplot')"],"execution_count":14,"outputs":[{"output_type":"stream","text":["Installing package into ‘/usr/local/lib/R/site-library’\n","(as ‘lib’ is unspecified)\n","\n","also installing the dependency ‘checkmate’\n","\n","\n"],"name":"stderr"}]},{"cell_type":"code","metadata":{"id":"iGFbLWMoS2Qe","executionInfo":{"status":"ok","timestamp":1601725792109,"user_tz":-540,"elapsed":31952,"user":{"displayName":"石田晶玄","photoUrl":"","userId":"03732523859576574577"}},"outputId":"35c43b14-783c-4de9-a545-01492b0bebae","colab":{"base_uri":"https://localhost:8080/","height":68}},"source":["install.packages('metafor')"],"execution_count":6,"outputs":[{"output_type":"stream","text":["Installing package into ‘/usr/local/lib/R/site-library’\n","(as ‘lib’ is unspecified)\n","\n"],"name":"stderr"}]},{"cell_type":"code","metadata":{"id":"x_8MxbcSVsRt","executionInfo":{"status":"ok","timestamp":1601726516430,"user_tz":-540,"elapsed":566,"user":{"displayName":"石田晶玄","photoUrl":"","userId":"03732523859576574577"}}},"source":["library(\"forestplot\")"],"execution_count":16,"outputs":[]},{"cell_type":"code","metadata":{"id":"lUuVMG--SutG","executionInfo":{"status":"ok","timestamp":1601725805488,"user_tz":-540,"elapsed":1588,"user":{"displayName":"石田晶玄","photoUrl":"","userId":"03732523859576574577"}},"outputId":"f1b1830d-0f00-4d21-86bb-95d2931d6b22","colab":{"base_uri":"https://localhost:8080/","height":102}},"source":["library(metafor)"],"execution_count":7,"outputs":[{"output_type":"stream","text":["Loading required package: Matrix\n","\n","Loading 'metafor' package (version 2.4-0). For an overview \n","and introduction to the package please type: help(metafor).\n","\n"],"name":"stderr"}]},{"cell_type":"code","metadata":{"id":"hN_cJA1oTbCm","executionInfo":{"status":"error","timestamp":1601725951065,"user_tz":-540,"elapsed":590,"user":{"displayName":"石田晶玄","photoUrl":"","userId":"03732523859576574577"}},"outputId":"83b4d41d-5a2e-4f88-d7a5-cfedd43c1110","colab":{"base_uri":"https://localhost:8080/","height":214}},"source":["exdat=read.delim(\"clipboard\",sep=\"\\t\",header=TRUE) # read.delimはタブ切りテクスト用"],"execution_count":9,"outputs":[{"output_type":"stream","text":["Warning message in file(file, \"rt\"):\n","“unable to contact X11 display”\n"],"name":"stderr"},{"output_type":"error","ename":"ERROR","evalue":"ignored","traceback":["Error in file(file, \"rt\"): cannot open the connection\nTraceback:\n","1. read.delim(\"clipboard\", sep = \"\\t\", header = TRUE)","2. read.table(file = file, header = header, sep = sep, quote = quote, \n .     dec = dec, fill = fill, comment.char = comment.char, ...)","3. file(file, \"rt\")"]}]},{"cell_type":"code","metadata":{"id":"3FTgwxH6VJRX","executionInfo":{"status":"ok","timestamp":1601727591972,"user_tz":-540,"elapsed":572,"user":{"displayName":"石田晶玄","photoUrl":"","userId":"03732523859576574577"}}},"source":["exdat=read.delim(\"metaa.tsv\", sep=\"\\t\", header=TRUE) # read.delimはタブ切りテクスト用"],"execution_count":23,"outputs":[]},{"cell_type":"code","metadata":{"id":"BiNeBPqLVhv0","executionInfo":{"status":"ok","timestamp":1601727594761,"user_tz":-540,"elapsed":1717,"user":{"displayName":"石田晶玄","photoUrl":"","userId":"03732523859576574577"}},"outputId":"08722648-1fb2-4c6e-eefb-b336d2b814e5","colab":{"base_uri":"https://localhost:8080/","height":646}},"source":["source(\"http://zanet.biz/med/useRj/scripts/forest_metafor_b.R\") #　書式に注意！colabだと図がでない。"],"execution_count":24,"outputs":[{"output_type":"stream","text":["\n","Random-Effects Model (k = 3; tau^2 estimator: REML)\n","\n","  logLik  deviance       AIC       BIC      AICc \n"," -6.0188   12.0376   16.0376   13.4239   28.0376   \n","\n","tau^2 (estimated amount of total heterogeneity): 0 (SE = 27.6792)\n","tau (square root of estimated tau^2 value):      0\n","I^2 (total heterogeneity / total variability):   0.00%\n","H^2 (total variability / sampling variability):  1.00\n","\n","Test for Heterogeneity:\n","Q(df = 2) = 1.2067, p-val = 0.5470\n","\n","Model Results:\n","\n","estimate      se     zval    pval    ci.lb    ci.ub \n"," -1.2032  0.5123  -2.3487  0.0188  -2.2073  -0.1991  * \n","\n","---\n","Signif. codes:  0 ‘***’ 0.001 ‘**’ 0.01 ‘*’ 0.05 ‘.’ 0.1 ‘ ’ 1\n","\n","[1] \"Egger's test:\"\n","\n","Regression Test for Funnel Plot Asymmetry\n","\n","model:     weighted regression with multiplicative dispersion\n","predictor: standard error\n","\n","test for funnel plot asymmetry: t = -0.0196, df = 1, p = 0.9875\n","\n","[1] \"Begg's test\"\n","\n","Rank Correlation Test for Funnel Plot Asymmetry\n","\n","Kendall's tau = 0.3333, p = 1.0000\n","\n"],"name":"stdout"}]}]}
=======
{
  "nbformat": 4,
  "nbformat_minor": 0,
  "metadata": {
    "colab": {
      "name": "R_git.ipynb",
      "provenance": [],
      "toc_visible": true,
      "include_colab_link": true
    },
    "kernelspec": {
      "name": "ir",
      "display_name": "R"
    }
  },
  "cells": [
    {
      "cell_type": "markdown",
      "metadata": {
        "id": "view-in-github",
        "colab_type": "text"
      },
      "source": [
        "<a href=\"https://colab.research.google.com/github/micida33/python_codes/blob/main/R_git.ipynb\" target=\"_parent\"><img src=\"https://colab.research.google.com/assets/colab-badge.svg\" alt=\"Open In Colab\"/></a>"
      ]
    },
    {
      "cell_type": "markdown",
      "metadata": {
        "id": "Vendgs3NtYY2"
      },
      "source": [
        "# Rについて"
      ]
    },
    {
      "cell_type": "markdown",
      "metadata": {
        "id": "0Q5ET1u792QQ"
      },
      "source": [
        "## 参考サイト\n",
        "\n",
        "- http://cse.naro.affrc.go.jp/takezawa/r-tips/r.html"
      ]
    },
    {
      "cell_type": "markdown",
      "metadata": {
        "id": "Zx2sBLXLtcoG"
      },
      "source": [
        "## Rのインストール使用方法\n",
        "- ランタイムを使用\n",
        "- マジックコマンドを使用\n",
        "　"
      ]
    },
    {
      "cell_type": "markdown",
      "metadata": {
        "id": "MF0oMk8Ht_il"
      },
      "source": [
        "### ランタイム\n",
        "\n",
        "1. ファイルのダウンロード：新規作成で.ipnbファイルを開いて、ダウンロードする。\n",
        "\n",
        "2. ダウンロードしたファイルをテキストアプリで開いて、\n",
        "\n",
        "\n",
        "    \"kernelspec\": {\n",
        "      \"name\": \"python3\",\n",
        "      \"display_name\": \"Python 3\"\n",
        "    },\n",
        "\n",
        "を\n",
        "\n",
        "    \"kernelspec\": {\n",
        "      \"name\": \"ir\",\n",
        "      \"display_name\": \"R\"\n",
        "    },\n",
        "\n",
        "に書き換える。\n",
        "\n",
        "3.　 書き換えたファイルをアップロードする。\n",
        "\n",
        "ランタイム変更がRになっていれば、成功"
      ]
    },
    {
      "cell_type": "markdown",
      "metadata": {
        "id": "7hKzcjiE1Zea"
      },
      "source": [
        "### マジックコマンドを使う\n",
        "\n",
        "%%script R --vanilla --quiet"
      ]
    },
    {
      "cell_type": "markdown",
      "metadata": {
        "id": "oImT61av7Nz8"
      },
      "source": [
        "## 基本操作"
      ]
    },
    {
      "cell_type": "code",
      "metadata": {
        "id": "MKfyZFEy7RTq",
        "colab": {
          "base_uri": "https://localhost:8080/",
          "height": 34
        },
        "outputId": "3d689df3-53d7-4957-c173-dfd00f8cd992"
      },
      "source": [
        "# 作業ディレクトリ\n",
        "\n",
        "getwd() "
      ],
      "execution_count": null,
      "outputs": [
        {
          "output_type": "display_data",
          "data": {
            "text/plain": [
              "[1] \"/content\""
            ],
            "text/latex": "'/content'",
            "text/markdown": "'/content'",
            "text/html": [
              "'/content'"
            ]
          },
          "metadata": {
            "tags": []
          }
        }
      ]
    },
    {
      "cell_type": "code",
      "metadata": {
        "id": "yllBgCX39srj"
      },
      "source": [
        "# ディレクトリ変更\n",
        "\n",
        "setwd(\"c:/usr\")"
      ],
      "execution_count": null,
      "outputs": []
    },
    {
      "cell_type": "code",
      "metadata": {
        "id": "abOOx4IfESz5"
      },
      "source": [
        "# CSVファイルの読み込み\n",
        "\n",
        "df <- read.csv(“sample-data.csv”,header=T,row.names=1)"
      ],
      "execution_count": null,
      "outputs": []
    },
    {
      "cell_type": "code",
      "metadata": {
        "id": "oYxGORMc-WHp"
      },
      "source": [
        "# エクセルパッケージのインストール\n",
        "\n",
        "install.packages('openxlsx') # エクセルライブラリのインストール\n",
        "\n",
        "library(openxlsx) # ライブラリ読み込み"
      ],
      "execution_count": null,
      "outputs": []
    },
    {
      "cell_type": "code",
      "metadata": {
        "id": "KY_1zKb8A43Z"
      },
      "source": [
        "# エクセルファイルの読み込み\n",
        "\n",
        " x <- read.xlsx(\"/content/pancsurg20200618_2.xlsx\")"
      ],
      "execution_count": null,
      "outputs": []
    },
    {
      "cell_type": "markdown",
      "metadata": {
        "id": "WMFvyAUMBIwW"
      },
      "source": [
        "## データフレームの使い方"
      ]
    },
    {
      "cell_type": "code",
      "metadata": {
        "id": "3G4dUoadBM0_",
        "colab": {
          "base_uri": "https://localhost:8080/",
          "height": 95
        },
        "outputId": "58fe1189-a36d-42a7-ee39-180a0b6b32cf"
      },
      "source": [
        "as.logical(x[\"PK\"])"
      ],
      "execution_count": null,
      "outputs": [
        {
          "output_type": "error",
          "ename": "ERROR",
          "evalue": "ignored",
          "traceback": [
            "Error in eval(expr, envir, enclos): 'list' object cannot be coerced to type 'logical'\nTraceback:\n"
          ]
        }
      ]
    },
    {
      "cell_type": "code",
      "metadata": {
        "id": "ckNoHcrdDPpw"
      },
      "source": [
        "library(MASS)"
      ],
      "execution_count": null,
      "outputs": []
    },
    {
      "cell_type": "markdown",
      "metadata": {
        "id": "EZgdWeIHQewe"
      },
      "source": [
        "# メタアナリシス"
      ]
    },
    {
      "cell_type": "code",
      "metadata": {
        "id": "W9GIa_ktQhDL",
        "colab": {
          "base_uri": "https://localhost:8080/",
          "height": 129
        },
        "outputId": "945d219f-be7a-4cac-c68b-8c0d616b70fb"
      },
      "source": [
        "%%script R --vanilla --quiet #動かない"
      ],
      "execution_count": null,
      "outputs": [
        {
          "output_type": "error",
          "ename": "ERROR",
          "evalue": "ignored",
          "traceback": [
            "Error in parse(text = x, srcfile = src): <text>:1:1: unexpected SPECIAL\n1: %%\n    ^\nTraceback:\n"
          ]
        }
      ]
    },
    {
      "cell_type": "code",
      "metadata": {
        "id": "RGkt8Gr7VnaE",
        "colab": {
          "base_uri": "https://localhost:8080/",
          "height": 119
        },
        "outputId": "33f40b12-963d-4409-9192-e8aa0ae579be"
      },
      "source": [
        "install.packages('forestplot')"
      ],
      "execution_count": null,
      "outputs": [
        {
          "output_type": "stream",
          "text": [
            "Installing package into ‘/usr/local/lib/R/site-library’\n",
            "(as ‘lib’ is unspecified)\n",
            "\n",
            "also installing the dependency ‘checkmate’\n",
            "\n",
            "\n"
          ],
          "name": "stderr"
        }
      ]
    },
    {
      "cell_type": "code",
      "metadata": {
        "id": "iGFbLWMoS2Qe",
        "colab": {
          "base_uri": "https://localhost:8080/",
          "height": 68
        },
        "outputId": "35c43b14-783c-4de9-a545-01492b0bebae"
      },
      "source": [
        "install.packages('metafor')"
      ],
      "execution_count": null,
      "outputs": [
        {
          "output_type": "stream",
          "text": [
            "Installing package into ‘/usr/local/lib/R/site-library’\n",
            "(as ‘lib’ is unspecified)\n",
            "\n"
          ],
          "name": "stderr"
        }
      ]
    },
    {
      "cell_type": "code",
      "metadata": {
        "id": "x_8MxbcSVsRt"
      },
      "source": [
        "library(\"forestplot\")"
      ],
      "execution_count": null,
      "outputs": []
    },
    {
      "cell_type": "code",
      "metadata": {
        "id": "lUuVMG--SutG",
        "colab": {
          "base_uri": "https://localhost:8080/",
          "height": 102
        },
        "outputId": "f1b1830d-0f00-4d21-86bb-95d2931d6b22"
      },
      "source": [
        "library(metafor)"
      ],
      "execution_count": null,
      "outputs": [
        {
          "output_type": "stream",
          "text": [
            "Loading required package: Matrix\n",
            "\n",
            "Loading 'metafor' package (version 2.4-0). For an overview \n",
            "and introduction to the package please type: help(metafor).\n",
            "\n"
          ],
          "name": "stderr"
        }
      ]
    },
    {
      "cell_type": "code",
      "metadata": {
        "id": "hN_cJA1oTbCm",
        "colab": {
          "base_uri": "https://localhost:8080/",
          "height": 214
        },
        "outputId": "83b4d41d-5a2e-4f88-d7a5-cfedd43c1110"
      },
      "source": [
        "exdat=read.delim(\"clipboard\",sep=\"\\t\",header=TRUE) # read.delimはタブ切りテクスト用"
      ],
      "execution_count": null,
      "outputs": [
        {
          "output_type": "stream",
          "text": [
            "Warning message in file(file, \"rt\"):\n",
            "“unable to contact X11 display”\n"
          ],
          "name": "stderr"
        },
        {
          "output_type": "error",
          "ename": "ERROR",
          "evalue": "ignored",
          "traceback": [
            "Error in file(file, \"rt\"): cannot open the connection\nTraceback:\n",
            "1. read.delim(\"clipboard\", sep = \"\\t\", header = TRUE)",
            "2. read.table(file = file, header = header, sep = sep, quote = quote, \n .     dec = dec, fill = fill, comment.char = comment.char, ...)",
            "3. file(file, \"rt\")"
          ]
        }
      ]
    },
    {
      "cell_type": "code",
      "metadata": {
        "id": "3FTgwxH6VJRX"
      },
      "source": [
        "exdat=read.delim(\"metaa.tsv\", sep=\"\\t\", header=TRUE) # read.delimはタブ切りテクスト用"
      ],
      "execution_count": null,
      "outputs": []
    },
    {
      "cell_type": "code",
      "metadata": {
        "id": "BiNeBPqLVhv0",
        "colab": {
          "base_uri": "https://localhost:8080/",
          "height": 646
        },
        "outputId": "08722648-1fb2-4c6e-eefb-b336d2b814e5"
      },
      "source": [
        "source(\"http://zanet.biz/med/useRj/scripts/forest_metafor_b.R\") #　書式に注意！colabだと図がでない。"
      ],
      "execution_count": null,
      "outputs": [
        {
          "output_type": "stream",
          "text": [
            "\n",
            "Random-Effects Model (k = 3; tau^2 estimator: REML)\n",
            "\n",
            "  logLik  deviance       AIC       BIC      AICc \n",
            " -6.0188   12.0376   16.0376   13.4239   28.0376   \n",
            "\n",
            "tau^2 (estimated amount of total heterogeneity): 0 (SE = 27.6792)\n",
            "tau (square root of estimated tau^2 value):      0\n",
            "I^2 (total heterogeneity / total variability):   0.00%\n",
            "H^2 (total variability / sampling variability):  1.00\n",
            "\n",
            "Test for Heterogeneity:\n",
            "Q(df = 2) = 1.2067, p-val = 0.5470\n",
            "\n",
            "Model Results:\n",
            "\n",
            "estimate      se     zval    pval    ci.lb    ci.ub \n",
            " -1.2032  0.5123  -2.3487  0.0188  -2.2073  -0.1991  * \n",
            "\n",
            "---\n",
            "Signif. codes:  0 ‘***’ 0.001 ‘**’ 0.01 ‘*’ 0.05 ‘.’ 0.1 ‘ ’ 1\n",
            "\n",
            "[1] \"Egger's test:\"\n",
            "\n",
            "Regression Test for Funnel Plot Asymmetry\n",
            "\n",
            "model:     weighted regression with multiplicative dispersion\n",
            "predictor: standard error\n",
            "\n",
            "test for funnel plot asymmetry: t = -0.0196, df = 1, p = 0.9875\n",
            "\n",
            "[1] \"Begg's test\"\n",
            "\n",
            "Rank Correlation Test for Funnel Plot Asymmetry\n",
            "\n",
            "Kendall's tau = 0.3333, p = 1.0000\n",
            "\n"
          ],
          "name": "stdout"
        }
      ]
    }
  ]
}
>>>>>>> 2fb5bc609756c3675fc4aca9cb1878d60f307153
