{
  "cells": [
    {
      "cell_type": "markdown",
      "metadata": {
        "colab_type": "text",
        "id": "view-in-github"
      },
      "source": [
        "<a href=\"https://colab.research.google.com/github/micida33/python_codes/blob/main/PET2mov.ipynb\" target=\"_parent\"><img src=\"https://colab.research.google.com/assets/colab-badge.svg\" alt=\"Open In Colab\"/></a>"
      ]
    },
    {
      "cell_type": "markdown",
      "metadata": {
        "id": "2Dlf6Cf75vjZ"
      },
      "source": [
        "# PETデータから動画を作成\n",
        "1. PETデータの取り込み\n",
        "2. トリミング\n",
        "3. 縮尺変更する\n",
        "4. 動画化頑張る"
      ]
    },
    {
      "cell_type": "markdown",
      "metadata": {
        "id": "S9_BX87T6Zru"
      },
      "source": [
        "# データの準備\n",
        "\n",
        "ワーキングディレクトリに、画像データのあるフォルダをアップする。\n",
        "- ディレクトリ名：PET\n",
        "- ファイル名：00001*.jpg, 00002*.jpg"
      ]
    },
    {
      "cell_type": "code",
      "execution_count": null,
      "metadata": {
        "id": "cvgUpsH_5sVe"
      },
      "outputs": [],
      "source": [
        "# インポート\n",
        "\n",
        "import os\n",
        "import glob\n",
        "import cv2\n",
        "import numpy as np\n",
        "import matplotlib.pyplot as plt"
      ]
    },
    {
      "cell_type": "code",
      "execution_count": null,
      "metadata": {
        "colab": {
          "base_uri": "https://localhost:8080/"
        },
        "id": "2vim1PaO7KTI",
        "outputId": "87ca7a11-7864-4bbc-d356-3d5608a04d4b"
      },
      "outputs": [
        {
          "name": "stdout",
          "output_type": "stream",
          "text": [
            "395\n",
            "['00240.jpg', '00082.jpg', '00019.jpg', '00055.jpg', '00368.jpg', '00011.jpg', '00218.jpg', '00216.jpg', '00213.jpg', '00117.jpg', '00087.jpg', '00370.jpg', '00022.jpg', '00260.jpg', '00035.jpg', '00143.jpg', '00376.jpg', '00313.jpg', '00064.jpg', '00293.jpg', '00276.jpg', '00307.jpg', '00300.jpg', '00168.jpg', '00324.jpg', '00234.jpg', '00299.jpg', '00236.jpg', '00094.jpg', '00076.jpg', '00330.jpg', '00074.jpg', '00186.jpg', '00111.jpg', '00162.jpg', '00083.jpg', '00021.jpg', '00258.jpg', '00328.jpg', '00387.jpg', '00098.jpg', '00295.jpg', '00101.jpg', '00049.jpg', '00005.jpg', '00173.jpg', '00304.jpg', '00369.jpg', '00170.jpg', '00051.jpg', '00332.jpg', '00393.jpg', '00336.jpg', '00159.jpg', '00383.jpg', '00009.jpg', '00092.jpg', '00163.jpg', '00075.jpg', '00066.jpg', '00181.jpg', '00086.jpg', '00301.jpg', '00273.jpg', '00352.jpg', '00212.jpg', '00235.jpg', '00331.jpg', '00084.jpg', '00363.jpg', '00001.jpg', '00337.jpg', '00148.jpg', '00003.jpg', '00013.jpg', '00373.jpg', '00390.jpg', '00289.jpg', '00053.jpg', '00061.jpg', '00031.jpg', '00028.jpg', '00284.jpg', '00392.jpg', '00119.jpg', '00153.jpg', '00232.jpg', '00073.jpg', '00238.jpg', '00353.jpg', '00078.jpg', '00305.jpg', '00150.jpg', '00095.jpg', '00279.jpg', '00219.jpg', '00314.jpg', '00072.jpg', '00226.jpg', '00070.jpg', '00195.jpg', '00128.jpg', '00097.jpg', '00029.jpg', '00292.jpg', '00318.jpg', '00081.jpg', '00354.jpg', '00020.jpg', '00126.jpg', '00327.jpg', '00045.jpg', '00227.jpg', '00166.jpg', '00320.jpg', '00123.jpg', '00255.jpg', '00224.jpg', '00113.jpg', '00109.jpg', '00099.jpg', '00151.jpg', '00017.jpg', '00222.jpg', '00063.jpg', '00316.jpg', '00133.jpg', '00158.jpg', '00340.jpg', '00275.jpg', '00154.jpg', '00187.jpg', '00004.jpg', '00207.jpg', '00040.jpg', '00007.jpg', '00341.jpg', '00358.jpg', '00378.jpg', '00244.jpg', '00085.jpg', '00345.jpg', '00108.jpg', '00008.jpg', '00223.jpg', '00375.jpg', '00185.jpg', '00364.jpg', '00278.jpg', '00211.jpg', '00046.jpg', '00107.jpg', '00194.jpg', '00180.jpg', '00106.jpg', '00093.jpg', '00014.jpg', '00281.jpg', '00196.jpg', '00178.jpg', '00228.jpg', '00257.jpg', '00283.jpg', '00161.jpg', '00267.jpg', '00203.jpg', '00309.jpg', '00271.jpg', '00100.jpg', '00023.jpg', '00116.jpg', '00089.jpg', '00058.jpg', '00190.jpg', '00265.jpg', '00347.jpg', '00025.jpg', '00285.jpg', '00172.jpg', '00317.jpg', '00339.jpg', '00230.jpg', '00067.jpg', '00171.jpg', '00263.jpg', '00175.jpg', '00326.jpg', '00039.jpg', '00165.jpg', '00246.jpg', '00044.jpg', '00280.jpg', '00310.jpg', '00146.jpg', '00057.jpg', '00233.jpg', '00130.jpg', '00169.jpg', '00060.jpg', '00344.jpg', '00102.jpg', '00256.jpg', '00198.jpg', '00205.jpg', '00071.jpg', '00088.jpg', '00385.jpg', '00090.jpg', '00357.jpg', '00121.jpg', '00182.jpg', '00010.jpg', '00365.jpg', '00239.jpg', '00199.jpg', '00374.jpg', '00110.jpg', '00286.jpg', '00167.jpg', '00156.jpg', '00018.jpg', '00016.jpg', '00298.jpg', '00147.jpg', '00145.jpg', '00191.jpg', '00192.jpg', '00006.jpg', '00249.jpg', '00356.jpg', '00105.jpg', '00382.jpg', '00277.jpg', '00395.jpg', '00214.jpg', '00115.jpg', '00243.jpg', '00377.jpg', '00103.jpg', '00177.jpg', '00062.jpg', '00259.jpg', '00241.jpg', '00197.jpg', '00048.jpg', '00270.jpg', '00152.jpg', '00124.jpg', '00032.jpg', '00346.jpg', '00247.jpg', '00361.jpg', '00024.jpg', '00229.jpg', '00033.jpg', '00288.jpg', '00134.jpg', '00129.jpg', '00184.jpg', '00137.jpg', '00104.jpg', '00294.jpg', '00036.jpg', '00189.jpg', '00096.jpg', '00384.jpg', '00381.jpg', '00136.jpg', '00112.jpg', '00114.jpg', '00202.jpg', '00242.jpg', '00077.jpg', '00329.jpg', '00311.jpg', '00183.jpg', '00231.jpg', '00122.jpg', '00034.jpg', '00269.jpg', '00042.jpg', '00065.jpg', '00366.jpg', '00215.jpg', '00149.jpg', '00386.jpg', '00208.jpg', '00012.jpg', '00079.jpg', '00323.jpg', '00291.jpg', '00367.jpg', '00251.jpg', '00043.jpg', '00308.jpg', '00261.jpg', '00026.jpg', '00068.jpg', '00037.jpg', '00268.jpg', '00015.jpg', '00371.jpg', '00135.jpg', '00118.jpg', '00306.jpg', '00282.jpg', '00200.jpg', '00250.jpg', '00302.jpg', '00141.jpg', '00296.jpg', '00157.jpg', '00059.jpg', '00174.jpg', '00315.jpg', '00131.jpg', '00394.jpg', '00274.jpg', '00335.jpg', '00204.jpg', '00325.jpg', '00362.jpg', '00245.jpg', '00030.jpg', '00355.jpg', '00321.jpg', '00350.jpg', '00287.jpg', '00343.jpg', '00209.jpg', '00253.jpg', '00176.jpg', '00142.jpg', '00179.jpg', '00264.jpg', '00359.jpg', '00333.jpg', '00379.jpg', '00248.jpg', '00348.jpg', '00217.jpg', '00391.jpg', '00164.jpg', '00027.jpg', '00349.jpg', '00334.jpg', '00338.jpg', '00002.jpg', '00266.jpg', '00312.jpg', '00080.jpg', '00254.jpg', '00138.jpg', '00041.jpg', '00047.jpg', '00120.jpg', '00127.jpg', '00380.jpg', '00132.jpg', '00220.jpg', '00125.jpg', '00155.jpg', '00389.jpg', '00272.jpg', '00069.jpg', '00290.jpg', '00388.jpg', '00237.jpg', '00050.jpg', '00372.jpg', '00319.jpg', '00303.jpg', '00210.jpg', '00297.jpg', '00054.jpg', '00262.jpg', '00091.jpg', '00052.jpg', '00201.jpg', '00188.jpg', '00221.jpg', '00351.jpg', '00160.jpg', '00360.jpg', '00206.jpg', '00342.jpg', '00038.jpg', '00139.jpg', '00225.jpg', '00193.jpg', '00144.jpg', '00252.jpg', '00140.jpg', '00322.jpg', '00056.jpg']\n"
          ]
        }
      ],
      "source": [
        "# ディレクトリ内のファイル名変更\n",
        "\n",
        "PathFolder = '/content/PET/' #画像のあるフォルダのパス\n",
        "\n",
        "os.chdir(PathFolder)\n",
        "path = '*.jpg'\n",
        "flist = glob.glob(path)\n",
        "\n",
        "for file in flist:\n",
        "  os.rename(file, file[:5] + '.jpg')\n",
        "\n",
        "count = len(flist)\n",
        "\n",
        "print(count)\n",
        "print(flist)"
      ]
    },
    {
      "cell_type": "code",
      "execution_count": null,
      "metadata": {
        "colab": {
          "base_uri": "https://localhost:8080/"
        },
        "id": "XvMYIQQPG9OS",
        "outputId": "b69cbc3b-c31d-4264-e25d-cdc818f0d087"
      },
      "outputs": [
        {
          "name": "stdout",
          "output_type": "stream",
          "text": [
            "(395, 512, 512)\n"
          ]
        }
      ],
      "source": [
        "# もとになるファイルを作る。２次元画像を重ねて３次元にする。\n",
        "\n",
        "# イメージファイルのパス。1枚目と2枚目を重ねておく！\n",
        "img0 = cv2.imread(PathFolder + '/00001.jpg', cv2.IMREAD_GRAYSCALE)\n",
        "img1 = cv2.imread(PathFolder + '/00002.jpg', cv2.IMREAD_GRAYSCALE)\n",
        "sum0 = np.stack([img0, img1])\n",
        "sumt = sum0\n",
        "\n",
        "# 後ろ（前）に二次元画像を重ねていく。\n",
        "\n",
        "for i in range(2, count):\n",
        "    img = cv2.imread(PathFolder + '/{0:05d}.jpg'.format(i), cv2.IMREAD_GRAYSCALE)\n",
        "    sumt = np.concatenate([sumt, [img]], axis=0)\n",
        "\n",
        "print(sumt.shape)"
      ]
    },
    {
      "cell_type": "code",
      "execution_count": null,
      "metadata": {
        "id": "mRsLryR93YWv"
      },
      "outputs": [],
      "source": [
        "# 確認（冠状断と矢状断）\n",
        "\n",
        "pixels = sumt\n",
        "check_cor = pixels[:, int(pixels.shape[1]/2), :]\n",
        "check_sag = pixels[:, :, int(pixels.shape[2]/2)]\n",
        "plt.imshow(check_cor)#２つとも必要\n",
        "plt.show()\n",
        "plt.imshow(check_sag)\n",
        "plt.show() \n",
        "print(check_cor.shape)\n",
        "print(check_sag.shape)"
      ]
    },
    {
      "cell_type": "code",
      "execution_count": null,
      "metadata": {
        "colab": {
          "base_uri": "https://localhost:8080/"
        },
        "id": "HuHijCzoWeHq",
        "outputId": "155a250b-22fd-402a-b588-917c2901191d"
      },
      "outputs": [
        {
          "name": "stdout",
          "output_type": "stream",
          "text": [
            "(100, 200, 300)\n"
          ]
        }
      ],
      "source": [
        "# 画像データのトリミング\n",
        "# 確認画像より、頭尾側：150-250、腹背側：200-400、左右側：100-400と予想\n",
        "\n",
        "sumt_trim = sumt[150:250, 200:400, 100:400]\n",
        "print(sumt_trim.shape)"
      ]
    },
    {
      "cell_type": "code",
      "execution_count": null,
      "metadata": {
        "id": "a35b17GUaa7i"
      },
      "outputs": [],
      "source": [
        "# 再確認（冠状断と矢状断）\n",
        "\n",
        "pixels_trim = sumt_trim\n",
        "check_cor = pixels_trim[:, int(pixels_trim.shape[1]/2), :]\n",
        "check_sag = pixels_trim[:, :, int(pixels_trim.shape[2]/2)]\n",
        "plt.imshow(check_cor)#２つとも必要\n",
        "plt.show()\n",
        "plt.imshow(check_sag)\n",
        "plt.show() \n",
        "print(check_cor.shape)\n",
        "print(check_sag.shape)"
      ]
    },
    {
      "cell_type": "code",
      "execution_count": null,
      "metadata": {
        "id": "NxqZs32S762z"
      },
      "outputs": [],
      "source": [
        "# ボリュームデータから、冠状断動画を作る\n",
        "\n",
        "# ボリュームデータの指定\n",
        "pixels_v = sumt_trim\n",
        "\n",
        "fourcc = cv2.VideoWriter_fourcc('m','p','4','v')\n",
        "\n",
        "# ！グレースケールの時は、５つめの変数をFalseにする！\n",
        "video = cv2.VideoWriter('video.mp4', fourcc, 20.0, (pixels_v.shape[2], pixels_v.shape[0]), False)\n",
        "MAISU_video = pixels_v.shape[1]\n",
        "for i in range(0, MAISU_video):\n",
        "    img = pixels_v[:, i, :]\n",
        "    img = np.asarray(img)\n",
        "    img = cv2.resize(img, dsize=(pixels_v.shape[2], pixels_v.shape[0]))\n",
        "    video.write(img)\n",
        "\n",
        "video.release()"
      ]
    },
    {
      "cell_type": "code",
      "execution_count": null,
      "metadata": {
        "id": "21UOc7FietDm"
      },
      "outputs": [],
      "source": [
        "# ボリュームデータから、縮尺変更（縦に延長）した、冠状断動画を作る\n",
        "\n",
        "# ボリュームデータの指定\n",
        "pixels_v = sumt_trim\n",
        "\n",
        "fourcc = cv2.VideoWriter_fourcc('m','p','4','v')\n",
        "\n",
        "# ！グレースケールの時は、５つめの変数をFalseにする！\n",
        "video = cv2.VideoWriter('video.mp4', fourcc, 20.0, (pixels_v.shape[2], pixels_v.shape[0]*2), False)\n",
        "MAISU_video = pixels_v.shape[1]\n",
        "for i in range(0, MAISU_video):\n",
        "    img = pixels_v[:, i, :]\n",
        "    img = np.asarray(img)\n",
        "    img = cv2.resize(img, dsize=(pixels_v.shape[2], pixels_v.shape[0]*2), interpolation=cv2.INTER_LANCZOS4)\n",
        "    video.write(img)\n",
        "\n",
        "video.release()"
      ]
    }
  ],
  "metadata": {
    "colab": {
      "authorship_tag": "ABX9TyNmBptA2wLCfDCBgDV4uG0h",
      "include_colab_link": true,
      "name": "PET2mov.ipynb",
      "provenance": []
    },
    "kernelspec": {
      "display_name": "Python 3",
      "name": "python3"
    }
  },
  "nbformat": 4,
  "nbformat_minor": 0
}
